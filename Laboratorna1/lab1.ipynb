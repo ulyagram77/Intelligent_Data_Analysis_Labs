{
 "cells": [
  {
   "cell_type": "markdown",
   "metadata": {},
   "source": [
    "## Інінціалізація бібліотек\n"
   ]
  },
  {
   "cell_type": "code",
   "execution_count": null,
   "metadata": {},
   "outputs": [],
   "source": [
    "import matplotlib.pyplot as plt\n",
    "import seaborn as sns\n",
    "from matplotlib.colors import ListedColormap\n",
    "from sklearn.model_selection import train_test_split\n",
    "from sklearn import datasets, neighbors"
   ]
  },
  {
   "cell_type": "markdown",
   "metadata": {},
   "source": [
    "## Завантаження набіру даних `Іриси Фішера`"
   ]
  },
  {
   "cell_type": "code",
   "execution_count": null,
   "metadata": {},
   "outputs": [],
   "source": [
    "# Набiр даних «Iриси Фiшера»\n",
    "iris = datasets.load_iris()"
   ]
  },
  {
   "cell_type": "markdown",
   "metadata": {},
   "source": [
    "## Розбити датасет на навчальну та тестовi вибiрки"
   ]
  },
  {
   "cell_type": "code",
   "execution_count": null,
   "metadata": {},
   "outputs": [],
   "source": [
    "# Розробка датасету\n",
    "X = iris.data # зберігає вимірні признаки ірісів\n",
    "Y = iris.target # зберігає класи ірісів\n",
    "x_train, x_test, y_train, y_test = train_test_split(X, Y, train_size=0.3,random_state=0) # тут за допомогою функції train_test_split розбиваємо датасет на тренінг та тест вибірки випадково у розмірі 30% - вивчення, 70% - тестування."
   ]
  },
  {
   "cell_type": "markdown",
   "metadata": {},
   "source": [
    "### Проведення `навчання классифікатора` та `визначення функціоналу якості` на навчальній та тестовій вибірці для всіх значень к"
   ]
  },
  {
   "cell_type": "code",
   "execution_count": null,
   "metadata": {},
   "outputs": [],
   "source": [
    "# Навчання класифiкатора\n",
    "k = 1\n",
    "k_values = []\n",
    "test_score = [] # зберігання оцінок тестової виборки\n",
    "train_score = [] # зберігання оцінок навчальної виборки\n",
    "\n",
    "while k <= 20:\n",
    "    k_values.append(k) # додаємо значення k до списку\n",
    "    knn = neighbors.KNeighborsClassifier(k) #створення моделі knn з поточним значенням k\n",
    "    knn.fit(x_train, y_train) # навчання моделі на датасеті для навчання\n",
    "    k += 1\n",
    "\n",
    "    # функцiонал якостi на навчальнiй та тестовiй вибiрцi для всiх значень k\n",
    "    test_score_1 = knn.score(x_test, y_test) # розрахування оцінки тестової виборки\n",
    "    train_score_1 = knn.score(x_train, y_train) # розрахування оцінки навчальної виборки\n",
    "    test_score.append(test_score_1) # додаємо оцінку тестової виборки до списку\n",
    "    train_score.append(train_score_1) # додаємо оцінку навчальної виборки до списку\n",
    "\n",
    "plt.plot(k_values, test_score, color=\"green\", label=\"test score\")\n",
    "plt.plot(k_values, train_score, color=\"orange\", label=\"train score\")\n",
    "plt.xlabel('k')\n",
    "plt.title('Об’єднаний графiк залежностей функцiоналу якостi вiд k для навчальної та тестової вибiрки')\n",
    "plt.ylabel('score')\n",
    "plt.legend()\n",
    "plt.show()"
   ]
  },
  {
   "cell_type": "markdown",
   "metadata": {},
   "source": [
    "## Запис результатів у різні массиви"
   ]
  },
  {
   "cell_type": "code",
   "execution_count": null,
   "metadata": {},
   "outputs": [],
   "source": [
    "print(test_score) # функціонал якості тестової вибірки"
   ]
  },
  {
   "cell_type": "code",
   "execution_count": null,
   "metadata": {},
   "outputs": [],
   "source": [
    "print(train_score) # функціонал якості навчальної вибірки"
   ]
  }
 ],
 "metadata": {
  "kernelspec": {
   "display_name": "lab1-UbxxUX9k-py3.11",
   "language": "python",
   "name": "python3"
  },
  "language_info": {
   "codemirror_mode": {
    "name": "ipython",
    "version": 3
   },
   "file_extension": ".py",
   "mimetype": "text/x-python",
   "name": "python",
   "nbconvert_exporter": "python",
   "pygments_lexer": "ipython3",
   "version": "3.11.5"
  },
  "orig_nbformat": 4
 },
 "nbformat": 4,
 "nbformat_minor": 2
}
