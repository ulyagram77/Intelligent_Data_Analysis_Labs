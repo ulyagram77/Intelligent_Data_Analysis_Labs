{
 "cells": [
  {
   "cell_type": "code",
   "execution_count": null,
   "metadata": {},
   "outputs": [],
   "source": [
    "from sklearn.cluster import KMeans\n",
    "from sklearn.datasets import load_digits\n",
    "from sklearn.preprocessing import Normalizer\n",
    "from sklearn.metrics import rand_score\n",
    "import numpy as np\n",
    "import matplotlib.pyplot as plt\n",
    "from sklearn.decomposition import PCA\n",
    "from sklearn.manifold import Isomap\n",
    "from sklearn.manifold import TSNE"
   ]
  },
  {
   "cell_type": "markdown",
   "metadata": {},
   "source": [
    "#### 1) Завантаження датасету картинок з цифрами"
   ]
  },
  {
   "cell_type": "code",
   "execution_count": null,
   "metadata": {},
   "outputs": [],
   "source": [
    "digits = load_digits()\n",
    "N = 110\n",
    "selected_data = np.empty((0, digits.data.shape[1]))\n",
    "\n",
    "for i in range(10):\n",
    "    digit_data = digits.data[digits.target == i][:N]\n",
    "    selected_data = np.concatenate((selected_data, digit_data), axis=0)\n",
    "    \n",
    "num_samples_per_class = 3\n",
    "for i in range(10):\n",
    "    for j in range(num_samples_per_class):\n",
    "        index = i * N + j\n",
    "        plt.imshow(selected_data[index].reshape(8, 8))\n",
    "        plt.title(f\"Class {i}\")\n",
    "        plt.show()\n",
    "        \n",
    "normalized_data = Normalizer().fit_transform(selected_data)"
   ]
  },
  {
   "cell_type": "code",
   "execution_count": null,
   "metadata": {},
   "outputs": [],
   "source": [
    "# Визуализация в двумерном пространстве\n",
    "pca_2d = PCA(n_components=2)\n",
    "pca_3d = PCA(n_components=3)\n",
    "data_2d = pca_2d.fit_transform(normalized_data)\n",
    "data_3d = pca_3d.fit_transform(normalized_data)\n",
    "plt.figure(figsize=(8, 8))\n",
    "plt.scatter(data_2d[:, 0], data_2d[:, 1], c=digits.target[:N * 10])\n",
    "plt.colorbar(label='Digit Class')\n",
    "plt.title('PCA 2D Embedding')\n",
    "plt.show()\n"
   ]
  },
  {
   "cell_type": "code",
   "execution_count": null,
   "metadata": {},
   "outputs": [],
   "source": [
    "# Визуализация в трехмерном пространстве\n",
    "fig = plt.figure(figsize=(8, 8))\n",
    "ax = fig.add_subplot(projection='3d')\n",
    "scatter = ax.scatter(data_3d[:, 0], data_3d[:, 1], data_3d[:, 2], c=digits.target[:N * 10])\n",
    "ax.set_title('PCA 3D Embedding')\n",
    "plt.colorbar(scatter, label='Digit Class')\n",
    "plt.show()\n"
   ]
  },
  {
   "cell_type": "code",
   "execution_count": null,
   "metadata": {},
   "outputs": [],
   "source": [
    "# Визуализация в двумерном пространстве ISOMAP\n",
    "isomap_2d = Isomap(n_components=2, n_neighbors=30)\n",
    "isomap_3d = Isomap(n_components=3, n_neighbors=30)\n",
    "data_2d = isomap_2d.fit_transform(normalized_data)\n",
    "data_3d = isomap_3d.fit_transform(normalized_data)\n",
    "plt.figure(figsize=(8, 8))\n",
    "plt.scatter(data_2d[:, 0], data_2d[:, 1], c=digits.target[:N * 10])\n",
    "plt.colorbar(label='Digit Class')\n",
    "plt.title('ISOMAP 2D Embedding')\n",
    "plt.show()\n"
   ]
  },
  {
   "cell_type": "code",
   "execution_count": null,
   "metadata": {},
   "outputs": [],
   "source": [
    "# Визуализация в трехмерном пространстве ISOMAP\n",
    "fig = plt.figure(figsize=(8, 8))\n",
    "ax = fig.add_subplot(111, projection='3d')\n",
    "scatter = ax.scatter(data_3d[:, 0], data_3d[:, 1], data_3d[:, 2], c=digits.target[:N * 10])\n",
    "ax.set_title('ISOMAP 3D Embedding')\n",
    "plt.colorbar(scatter, label='Digit Class')\n",
    "plt.show()"
   ]
  },
  {
   "cell_type": "code",
   "execution_count": null,
   "metadata": {},
   "outputs": [],
   "source": [
    "d_range = range(1, 10)\n",
    "\n",
    "isomap_score = []\n",
    "for d in d_range:\n",
    "    isomap_data = Isomap(n_components=d).fit_transform(normalized_data)\n",
    "    kmeans = KMeans(n_clusters=5)\n",
    "    labels = kmeans.fit_predict(isomap_data)\n",
    "    score = rand_score(digits.target[:N * 10], labels)\n",
    "    isomap_score.append(score)"
   ]
  },
  {
   "cell_type": "code",
   "execution_count": null,
   "metadata": {},
   "outputs": [],
   "source": [
    "pca_score = []\n",
    "for d in d_range:\n",
    "    pca_data = PCA(n_components=d).fit_transform(normalized_data)\n",
    "    kmeans = KMeans(n_clusters=5)\n",
    "    labels = kmeans.fit_predict(isomap_data)\n",
    "    score = rand_score(digits.target[:N * 10], labels)\n",
    "    pca_score.append(score)"
   ]
  },
  {
   "cell_type": "code",
   "execution_count": null,
   "metadata": {},
   "outputs": [],
   "source": [
    "tsne_score = []\n",
    "for d in d_range:\n",
    "    tsne_data = TSNE(n_components=d, method=\"exact\").fit_transform(normalized_data)\n",
    "    kmeans = KMeans(n_clusters=5)\n",
    "    labels = kmeans.fit_predict(isomap_data)\n",
    "    score = rand_score(digits.target[:N * 10], labels)\n",
    "    tsne_score.append(score)"
   ]
  },
  {
   "cell_type": "code",
   "execution_count": null,
   "metadata": {},
   "outputs": [],
   "source": [
    "plt.figure(figsize=(10, 5))\n",
    "plt.scatter(d_range, isomap_score, label='ISOMAP')\n",
    "plt.scatter(d_range, pca_score, label='PCA')\n",
    "plt.scatter(d_range, tsne_score, label='TSNE')\n",
    "plt.title(\"Grade of the quality of clustering with nested data\")\n",
    "plt.xlabel(\"Number of components\")\n",
    "plt.ylabel(\"RandScore\")\n",
    "plt.legend()\n",
    "plt.show()\n",
    "print(f'Кількість компонентів, точність з ISOMAP, точність з PCA, точність з T-SNE')"
   ]
  },
  {
   "cell_type": "code",
   "execution_count": null,
   "metadata": {},
   "outputs": [],
   "source": [
    "for i, j in zip(d_range, range(0, 9)):\n",
    "    print(f'{i}, {isomap_score[j]:.4f}, {pca_score[j]:.4f}, {tsne_score[j]:.4f}')"
   ]
  }
 ],
 "metadata": {
  "kernelspec": {
   "display_name": "intelligent-data-analysis-labs-TawrcNjr-py3.11",
   "language": "python",
   "name": "python3"
  },
  "language_info": {
   "codemirror_mode": {
    "name": "ipython",
    "version": 3
   },
   "file_extension": ".py",
   "mimetype": "text/x-python",
   "name": "python",
   "nbconvert_exporter": "python",
   "pygments_lexer": "ipython3",
   "version": "3.11.6"
  }
 },
 "nbformat": 4,
 "nbformat_minor": 2
}
